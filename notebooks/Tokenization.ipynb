{
 "cells": [
  {
   "cell_type": "code",
   "execution_count": 8,
   "id": "803bfac6-6b70-4254-94b8-8c609da5c01f",
   "metadata": {},
   "outputs": [],
   "source": [
    "demo_text = \"안녕하세요 👋 (hello in Korean!)\""
   ]
  },
  {
   "cell_type": "code",
   "execution_count": 9,
   "id": "a3dbd969-a17e-4734-845f-e70a4997694f",
   "metadata": {},
   "outputs": [
    {
     "data": {
      "text/plain": [
       "104"
      ]
     },
     "execution_count": 9,
     "metadata": {},
     "output_type": "execute_result"
    }
   ],
   "source": [
    "ord(\"h\")"
   ]
  },
  {
   "cell_type": "code",
   "execution_count": 10,
   "id": "b081b704-1356-44bf-9039-9f96b39e7abc",
   "metadata": {},
   "outputs": [
    {
     "data": {
      "text/plain": [
       "128075"
      ]
     },
     "execution_count": 10,
     "metadata": {},
     "output_type": "execute_result"
    }
   ],
   "source": [
    "ord(\"👋\")"
   ]
  },
  {
   "cell_type": "code",
   "execution_count": 11,
   "id": "b3a4a3da-4200-446f-8ede-aef5495308c9",
   "metadata": {},
   "outputs": [
    {
     "data": {
      "text/plain": [
       "[50504,\n",
       " 45397,\n",
       " 54616,\n",
       " 49464,\n",
       " 50836,\n",
       " 32,\n",
       " 128075,\n",
       " 32,\n",
       " 40,\n",
       " 104,\n",
       " 101,\n",
       " 108,\n",
       " 108,\n",
       " 111,\n",
       " 32,\n",
       " 105,\n",
       " 110,\n",
       " 32,\n",
       " 75,\n",
       " 111,\n",
       " 114,\n",
       " 101,\n",
       " 97,\n",
       " 110,\n",
       " 33,\n",
       " 41]"
      ]
     },
     "execution_count": 11,
     "metadata": {},
     "output_type": "execute_result"
    }
   ],
   "source": [
    "[ord(x) for x in demo_text]"
   ]
  },
  {
   "cell_type": "code",
   "execution_count": 12,
   "id": "41590c29-7d0b-4b82-8a69-c90d056ff8df",
   "metadata": {},
   "outputs": [],
   "source": [
    "# Why we do not use all the Unicode single characters as a token:\n",
    "# 1. There are almost 150k code points\n",
    "# 2. Unicode standard is continuously updating and changing\n",
    "# [A programmer's introduction to UTF-8](https://www.reedbeta.com/blog/programmers-intro-to-unicode/)\n",
    "# [UTF-8 Manifesto](http://utf8everywhere.org)"
   ]
  },
  {
   "cell_type": "code",
   "execution_count": 16,
   "id": "61e05ce6-ca8e-4224-8a92-92c739cb88cb",
   "metadata": {},
   "outputs": [
    {
     "data": {
      "text/plain": [
       "[236,\n",
       " 149,\n",
       " 136,\n",
       " 235,\n",
       " 133,\n",
       " 149,\n",
       " 237,\n",
       " 149,\n",
       " 152,\n",
       " 236,\n",
       " 132,\n",
       " 184,\n",
       " 236,\n",
       " 154,\n",
       " 148,\n",
       " 32,\n",
       " 240,\n",
       " 159,\n",
       " 145,\n",
       " 139,\n",
       " 32,\n",
       " 40,\n",
       " 104,\n",
       " 101,\n",
       " 108,\n",
       " 108,\n",
       " 111,\n",
       " 32,\n",
       " 105,\n",
       " 110,\n",
       " 32,\n",
       " 75,\n",
       " 111,\n",
       " 114,\n",
       " 101,\n",
       " 97,\n",
       " 110,\n",
       " 33,\n",
       " 41]"
      ]
     },
     "execution_count": 16,
     "metadata": {},
     "output_type": "execute_result"
    }
   ],
   "source": [
    "list(demo_text.encode(\"utf-8\"))"
   ]
  },
  {
   "cell_type": "code",
   "execution_count": 72,
   "id": "9e4c089a-8d91-4731-ad0b-f08f777e0134",
   "metadata": {},
   "outputs": [
    {
     "name": "stdout",
     "output_type": "stream",
     "text": [
      "---\n",
      "Ｕｎｉｃｏｄｅ! 🅤🅝🅘🅒🅞🅓🅔‽ 🇺‌🇳‌🇮‌🇨‌🇴‌🇩‌🇪! 😄 The very name strikes fear and awe into the hearts of programmers worldwide. We all know we ought to “support Unicode” in our software (whatever that means—like using wchar_t for all the strings, right?). But Unicode can be abstruse, and diving into the thousand-page Unicode Standard plus its dozens of supplementary annexes, reports, and notes can be more than a little intimidating. I don’t blame programmers for still finding the whole thing mysterious, even 30 years after Unicode’s inception.\n",
      "Text length 533\n",
      "---\n",
      "[239, 188, 181, 239, 189, 142, 239, 189, 137, 239, 189, 131, 239, 189, 143, 239, 189, 132, 239, 189, 133, 33, 32, 240, 159, 133, 164, 240, 159, 133, 157, 240, 159, 133, 152, 240, 159, 133, 146, 240, 159, 133, 158, 240, 159, 133, 147, 240, 159, 133, 148, 226, 128, 189, 32, 240, 159, 135, 186, 226, 128, 140, 240, 159, 135, 179, 226, 128, 140, 240, 159, 135, 174, 226, 128, 140, 240, 159, 135, 168, 226, 128, 140, 240, 159, 135, 180, 226, 128, 140, 240, 159, 135, 169, 226, 128, 140, 240, 159, 135, 170, 33, 32, 240, 159, 152, 132, 32, 84, 104, 101, 32, 118, 101, 114, 121, 32, 110, 97, 109, 101, 32, 115, 116, 114, 105, 107, 101, 115, 32, 102, 101, 97, 114, 32, 97, 110, 100, 32, 97, 119, 101, 32, 105, 110, 116, 111, 32, 116, 104, 101, 32, 104, 101, 97, 114, 116, 115, 32, 111, 102, 32, 112, 114, 111, 103, 114, 97, 109, 109, 101, 114, 115, 32, 119, 111, 114, 108, 100, 119, 105, 100, 101, 46, 32, 87, 101, 32, 97, 108, 108, 32, 107, 110, 111, 119, 32, 119, 101, 32, 111, 117, 103, 104, 116, 32, 116, 111, 32, 226, 128, 156, 115, 117, 112, 112, 111, 114, 116, 32, 85, 110, 105, 99, 111, 100, 101, 226, 128, 157, 32, 105, 110, 32, 111, 117, 114, 32, 115, 111, 102, 116, 119, 97, 114, 101, 32, 40, 119, 104, 97, 116, 101, 118, 101, 114, 32, 116, 104, 97, 116, 32, 109, 101, 97, 110, 115, 226, 128, 148, 108, 105, 107, 101, 32, 117, 115, 105, 110, 103, 32, 119, 99, 104, 97, 114, 95, 116, 32, 102, 111, 114, 32, 97, 108, 108, 32, 116, 104, 101, 32, 115, 116, 114, 105, 110, 103, 115, 44, 32, 114, 105, 103, 104, 116, 63, 41, 46, 32, 66, 117, 116, 32, 85, 110, 105, 99, 111, 100, 101, 32, 99, 97, 110, 32, 98, 101, 32, 97, 98, 115, 116, 114, 117, 115, 101, 44, 32, 97, 110, 100, 32, 100, 105, 118, 105, 110, 103, 32, 105, 110, 116, 111, 32, 116, 104, 101, 32, 116, 104, 111, 117, 115, 97, 110, 100, 45, 112, 97, 103, 101, 32, 85, 110, 105, 99, 111, 100, 101, 32, 83, 116, 97, 110, 100, 97, 114, 100, 32, 112, 108, 117, 115, 32, 105, 116, 115, 32, 100, 111, 122, 101, 110, 115, 32, 111, 102, 32, 115, 117, 112, 112, 108, 101, 109, 101, 110, 116, 97, 114, 121, 32, 97, 110, 110, 101, 120, 101, 115, 44, 32, 114, 101, 112, 111, 114, 116, 115, 44, 32, 97, 110, 100, 32, 110, 111, 116, 101, 115, 32, 99, 97, 110, 32, 98, 101, 32, 109, 111, 114, 101, 32, 116, 104, 97, 110, 32, 97, 32, 108, 105, 116, 116, 108, 101, 32, 105, 110, 116, 105, 109, 105, 100, 97, 116, 105, 110, 103, 46, 32, 73, 32, 100, 111, 110, 226, 128, 153, 116, 32, 98, 108, 97, 109, 101, 32, 112, 114, 111, 103, 114, 97, 109, 109, 101, 114, 115, 32, 102, 111, 114, 32, 115, 116, 105, 108, 108, 32, 102, 105, 110, 100, 105, 110, 103, 32, 116, 104, 101, 32, 119, 104, 111, 108, 101, 32, 116, 104, 105, 110, 103, 32, 109, 121, 115, 116, 101, 114, 105, 111, 117, 115, 44, 32, 101, 118, 101, 110, 32, 51, 48, 32, 121, 101, 97, 114, 115, 32, 97, 102, 116, 101, 114, 32, 85, 110, 105, 99, 111, 100, 101, 226, 128, 153, 115, 32, 105, 110, 99, 101, 112, 116, 105, 111, 110, 46]\n",
      "Tokens' length 616\n"
     ]
    }
   ],
   "source": [
    "text = \"Ｕｎｉｃｏｄｅ! 🅤🅝🅘🅒🅞🅓🅔‽ 🇺‌🇳‌🇮‌🇨‌🇴‌🇩‌🇪! 😄 The very name strikes fear and awe into the hearts of programmers worldwide. We all know we ought to “support Unicode” in our software (whatever that means—like using wchar_t for all the strings, right?). But Unicode can be abstruse, and diving into the thousand-page Unicode Standard plus its dozens of supplementary annexes, reports, and notes can be more than a little intimidating. I don’t blame programmers for still finding the whole thing mysterious, even 30 years after Unicode’s inception.\"\n",
    "# Convert text to raw bytes by encoding it into utf-8\n",
    "tokens = text.encode(\"utf-8\")\n",
    "# Convert the bytestream into a list for convenience\n",
    "tokens = list(tokens)\n",
    "print('---')\n",
    "print(text)\n",
    "print(\"Text length\", len(text))\n",
    "print('---')\n",
    "print(tokens)\n",
    "print(\"Tokens' length\", len(tokens))"
   ]
  },
  {
   "cell_type": "code",
   "execution_count": 73,
   "id": "19f04211-cb4a-42e6-aa9d-297bbd0aa5bf",
   "metadata": {},
   "outputs": [
    {
     "name": "stdout",
     "output_type": "stream",
     "text": [
      "{(101, 32): 20, (240, 159): 15, (226, 128): 12, (105, 110): 12, (115, 32): 10, (32, 97): 10, (97, 110): 10, (32, 116): 9, (116, 104): 8, (159, 133): 7, (159, 135): 7, (97, 114): 7, (239, 189): 6, (128, 140): 6, (140, 240): 6, (104, 101): 6, (101, 114): 6, (109, 101): 6, (114, 32): 6, (110, 100): 6, (32, 105): 6, (111, 114): 6, (116, 32): 6, (110, 103): 6, (32, 115): 5, (115, 116): 5, (100, 101): 5, (110, 32): 5, (117, 115): 5, (44, 32): 5, (97, 109): 4, (114, 105): 4, (32, 102): 4, (101, 97): 4, (100, 32): 4, (110, 116): 4, (32, 111): 4, (32, 119): 4, (111, 117): 4, (32, 85): 4, (85, 110): 4, (110, 105): 4, (105, 99): 4, (99, 111): 4, (111, 100): 4, (104, 97): 4, (116, 101): 4, (103, 32): 4, (115, 44): 4, (116, 105): 4, (32, 240): 3, (118, 101): 3, (116, 114): 3, (101, 115): 3, (116, 111): 3, (111, 32): 3, (114, 116): 3, (116, 115): 3, (111, 102): 3, (32, 112): 3, (114, 115): 3, (46, 32): 3, (108, 108): 3, (108, 32): 3, (114, 101): 3, (97, 116): 3, (32, 109): 3, (32, 98): 3, (32, 100): 3, (101, 110): 3, (108, 101): 3, (33, 32): 2, (114, 121): 2, (121, 32): 2, (32, 110): 2, (105, 107): 2, (107, 101): 2, (119, 101): 2, (102, 32): 2, (112, 114): 2, (114, 111): 2, (111, 103): 2, (103, 114): 2, (114, 97): 2, (109, 109): 2, (105, 100): 2, (97, 108): 2, (110, 111): 2, (103, 104): 2, (104, 116): 2, (115, 117): 2, (117, 112): 2, (112, 112): 2, (112, 111): 2, (101, 226): 2, (102, 116): 2, (119, 104): 2, (101, 118): 2, (110, 115): 2, (108, 105): 2, (102, 111): 2, (32, 114): 2, (32, 99): 2, (99, 97): 2, (98, 101): 2, (100, 105): 2, (104, 111): 2, (116, 97): 2, (100, 97): 2, (112, 108): 2, (105, 116): 2, (100, 111): 2, (101, 112): 2, (111, 110): 2, (128, 153): 2, (105, 111): 2, (239, 188): 1, (188, 181): 1, (181, 239): 1, (189, 142): 1, (142, 239): 1, (189, 137): 1, (137, 239): 1, (189, 131): 1, (131, 239): 1, (189, 143): 1, (143, 239): 1, (189, 132): 1, (132, 239): 1, (189, 133): 1, (133, 33): 1, (133, 164): 1, (164, 240): 1, (133, 157): 1, (157, 240): 1, (133, 152): 1, (152, 240): 1, (133, 146): 1, (146, 240): 1, (133, 158): 1, (158, 240): 1, (133, 147): 1, (147, 240): 1, (133, 148): 1, (148, 226): 1, (128, 189): 1, (189, 32): 1, (135, 186): 1, (186, 226): 1, (135, 179): 1, (179, 226): 1, (135, 174): 1, (174, 226): 1, (135, 168): 1, (168, 226): 1, (135, 180): 1, (180, 226): 1, (135, 169): 1, (169, 226): 1, (135, 170): 1, (170, 33): 1, (159, 152): 1, (152, 132): 1, (132, 32): 1, (32, 84): 1, (84, 104): 1, (32, 118): 1, (110, 97): 1, (102, 101): 1, (97, 119): 1, (32, 104): 1, (119, 111): 1, (114, 108): 1, (108, 100): 1, (100, 119): 1, (119, 105): 1, (101, 46): 1, (32, 87): 1, (87, 101): 1, (32, 107): 1, (107, 110): 1, (111, 119): 1, (119, 32): 1, (117, 103): 1, (32, 226): 1, (128, 156): 1, (156, 115): 1, (128, 157): 1, (157, 32): 1, (117, 114): 1, (115, 111): 1, (116, 119): 1, (119, 97): 1, (32, 40): 1, (40, 119): 1, (115, 226): 1, (128, 148): 1, (148, 108): 1, (32, 117): 1, (115, 105): 1, (119, 99): 1, (99, 104): 1, (114, 95): 1, (95, 116): 1, (103, 115): 1, (105, 103): 1, (116, 63): 1, (63, 41): 1, (41, 46): 1, (32, 66): 1, (66, 117): 1, (117, 116): 1, (97, 98): 1, (98, 115): 1, (114, 117): 1, (115, 101): 1, (101, 44): 1, (105, 118): 1, (118, 105): 1, (115, 97): 1, (100, 45): 1, (45, 112): 1, (112, 97): 1, (97, 103): 1, (103, 101): 1, (32, 83): 1, (83, 116): 1, (114, 100): 1, (108, 117): 1, (111, 122): 1, (122, 101): 1, (101, 109): 1, (110, 110): 1, (110, 101): 1, (101, 120): 1, (120, 101): 1, (111, 116): 1, (109, 111): 1, (97, 32): 1, (32, 108): 1, (116, 116): 1, (116, 108): 1, (105, 109): 1, (109, 105): 1, (103, 46): 1, (32, 73): 1, (73, 32): 1, (110, 226): 1, (153, 116): 1, (98, 108): 1, (108, 97): 1, (105, 108): 1, (102, 105): 1, (111, 108): 1, (104, 105): 1, (109, 121): 1, (121, 115): 1, (32, 101): 1, (32, 51): 1, (51, 48): 1, (48, 32): 1, (32, 121): 1, (121, 101): 1, (97, 102): 1, (153, 115): 1, (110, 99): 1, (99, 101): 1, (112, 116): 1, (110, 46): 1}\n"
     ]
    }
   ],
   "source": [
    "def count_pairs(data):\n",
    "    # Initialize a dictionary to hold the pairs and their count\n",
    "    counts = {}\n",
    "    for pair in zip(data[:len(data)], data[1:]):\n",
    "        counts[pair] = counts.get(pair, 0) + 1\n",
    "    return counts\n",
    "\n",
    "byte_pair_counts = count_pairs(tokens)\n",
    "sorted_pair_counts = dict(sorted(byte_pair_counts.items(), key=lambda item: item[1], reverse=True))\n",
    "print(sorted_pair_counts)"
   ]
  },
  {
   "cell_type": "code",
   "execution_count": null,
   "id": "4c9b5da3-9b67-444e-bdde-1b1c7ed93342",
   "metadata": {},
   "outputs": [],
   "source": [
    "def replace_byte_pair(data, pair, replace_with):\n",
    "    data_len = len(data)\n",
    "    idx = 0\n",
    "    \n",
    "    while idx < data_len - 1:\n",
    "        # If we found the desired pair\n",
    "        if data[idx] == pair[0] and data[idx+1] == pair[1]:\n",
    "            # We replace the first byte of the pair with the desired replacement\n",
    "            data[idx] = replace_with\n",
    "            # We delete the second byte of the pair\n",
    "            data.pop(idx+1)\n",
    "            data_len -= 1\n",
    "            idx += 1\n",
    "        idx += 1\n",
    "\n",
    "\n",
    "def replace_byte_pairs(data, pairs):\n",
    "    # As the biggest character we can get is 255, we need a way to represent 256 and onwards.\n",
    "    replace_with = 256\n",
    "\n",
    "    for pair in listpairs.keys():\n",
    "        replace_byte_pair(data, pair, replace_with)\n",
    "        replace_with += 1\n",
    "\n",
    "replace_byte_pairs(tokens, sorted_pair_counts)"
   ]
  },
  {
   "cell_type": "code",
   "execution_count": 71,
   "id": "70bbdacf-83cd-426b-88a6-4bfce6b8e1df",
   "metadata": {},
   "outputs": [
    {
     "data": {
      "text/plain": [
       "547"
      ]
     },
     "execution_count": 71,
     "metadata": {},
     "output_type": "execute_result"
    }
   ],
   "source": [
    "len(tokens)"
   ]
  },
  {
   "cell_type": "code",
   "execution_count": null,
   "id": "228b773f-a771-4d38-9032-581db07cfaee",
   "metadata": {},
   "outputs": [],
   "source": []
  }
 ],
 "metadata": {
  "kernelspec": {
   "display_name": "Python 3 (ipykernel)",
   "language": "python",
   "name": "python3"
  },
  "language_info": {
   "codemirror_mode": {
    "name": "ipython",
    "version": 3
   },
   "file_extension": ".py",
   "mimetype": "text/x-python",
   "name": "python",
   "nbconvert_exporter": "python",
   "pygments_lexer": "ipython3",
   "version": "3.12.7"
  }
 },
 "nbformat": 4,
 "nbformat_minor": 5
}
